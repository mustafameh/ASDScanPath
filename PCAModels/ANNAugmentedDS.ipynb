{
 "cells": [
  {
   "cell_type": "code",
   "execution_count": 1,
   "metadata": {},
   "outputs": [],
   "source": [
    "#Load and preprocess\n",
    "import os\n",
    "import cv2\n",
    "import numpy as np\n",
    "from sklearn.decomposition import PCA\n",
    "import tensorflow as tf\n",
    "from tensorflow.keras.models import Sequential\n",
    "from tensorflow.keras.layers import Dense\n",
    "from tensorflow.keras.optimizers import Adam\n",
    "from tensorflow.keras.layers import Dropout\n",
    "\n",
    "\n",
    "def load_images_from_folder(folder):\n",
    "    images = []\n",
    "    for filename in os.listdir(folder):\n",
    "        if filename.endswith(\".png\"):\n",
    "            img = cv2.imread(os.path.join(folder, filename), cv2.IMREAD_GRAYSCALE)\n",
    "            if img is not None:\n",
    "                images.append(img)\n",
    "    return images"
   ]
  },
  {
   "cell_type": "code",
   "execution_count": 2,
   "metadata": {},
   "outputs": [],
   "source": [
    "#Load the images and preprocess them (resize, flatten, and normalize)\n",
    "folder_path_class1 = r'C:\\Users\\786me\\Desktop\\FinalYearProject\\ASDScanPath\\ASD\\Augmented5x\\Control'\n",
    "folder_path_class2 = r'C:\\Users\\786me\\Desktop\\FinalYearProject\\ASDScanPath\\ASD\\Augmented5x\\Patient'\n",
    "\n",
    "# Load images from each class folder\n",
    "images_class1 = load_images_from_folder(folder_path_class1)\n",
    "images_class2 = load_images_from_folder(folder_path_class2)\n",
    "\n",
    "# Assign labels to images (0 for class1, 1 for class2)\n",
    "labels_class1 = [0] * len(images_class1)\n",
    "labels_class2 = [1] * len(images_class2)\n",
    "\n",
    "# Resize the images to a consistent size (e.g., 64x64)\n",
    "resize_dim = (224, 224)\n",
    "resized_images_class1 = [cv2.resize(img, resize_dim) for img in images_class1]\n",
    "resized_images_class2 = [cv2.resize(img, resize_dim) for img in images_class2]\n",
    "\n",
    "# Flatten and normalize the images into 1D arrays\n",
    "flattened_images_class1 = [img.flatten() / 255.0 for img in resized_images_class1]\n",
    "flattened_images_class2 = [img.flatten() / 255.0 for img in resized_images_class2]\n",
    "\n",
    "# Combine the image data and labels\n",
    "X = np.vstack((flattened_images_class1, flattened_images_class2))\n",
    "y = np.hstack((labels_class1, labels_class2))"
   ]
  },
  {
   "cell_type": "code",
   "execution_count": 4,
   "metadata": {},
   "outputs": [
    {
     "name": "stdout",
     "output_type": "stream",
     "text": [
      "Optimal number of components for 97.0% explained variance: 1792\n"
     ]
    }
   ],
   "source": [
    "def optimal_n_components(data, explained_variance_threshold):\n",
    "    pca = PCA()\n",
    "    pca.fit(data)\n",
    "    cumulative_explained_variance = np.cumsum(pca.explained_variance_ratio_)\n",
    "    \n",
    "    optimal_n = np.where(cumulative_explained_variance >= explained_variance_threshold)[0][0] + 1\n",
    "    \n",
    "    return optimal_n\n",
    "\n",
    "explained_variance_threshold = 0.97\n",
    "n_components = optimal_n_components(X, explained_variance_threshold)\n",
    "\n",
    "print(f'Optimal number of components for {explained_variance_threshold*100}% explained variance: {n_components}')"
   ]
  },
  {
   "cell_type": "code",
   "execution_count": 5,
   "metadata": {},
   "outputs": [],
   "source": [
    "pca = PCA(n_components=n_components)\n",
    "X_pca = pca.fit_transform(X)"
   ]
  },
  {
   "cell_type": "code",
   "execution_count": 60,
   "metadata": {},
   "outputs": [
    {
     "name": "stdout",
     "output_type": "stream",
     "text": [
      "Model: \"sequential_9\"\n",
      "_________________________________________________________________\n",
      " Layer (type)                Output Shape              Param #   \n",
      "=================================================================\n",
      " dense_29 (Dense)            (None, 64)                114752    \n",
      "                                                                 \n",
      " dropout_20 (Dropout)        (None, 64)                0         \n",
      "                                                                 \n",
      " dense_30 (Dense)            (None, 16)                1040      \n",
      "                                                                 \n",
      " dropout_21 (Dropout)        (None, 16)                0         \n",
      "                                                                 \n",
      " dense_31 (Dense)            (None, 1)                 17        \n",
      "                                                                 \n",
      "=================================================================\n",
      "Total params: 115,809\n",
      "Trainable params: 115,809\n",
      "Non-trainable params: 0\n",
      "_________________________________________________________________\n"
     ]
    }
   ],
   "source": [
    "# Create a simple ANN model\n",
    "def create_ann_model(input_dim):\n",
    "    model = Sequential()\n",
    "    model.add(Dense(64, input_dim=input_dim, activation='relu'))\n",
    "    model.add(Dropout(0.1))\n",
    "    \n",
    "    model.add(Dense(16, activation='relu'))\n",
    "    model.add(Dropout(0.5))\n",
    "    model.add(Dense(1, activation='sigmoid'))\n",
    "    return model\n",
    "\n",
    "# Define the input dimension based on the number of PCA components\n",
    "input_dim = X_pca.shape[1]\n",
    "\n",
    "# Create the ANN model\n",
    "ann_model = create_ann_model(input_dim)\n",
    "\n",
    "# Compile the model\n",
    "ann_model.compile(loss='binary_crossentropy', optimizer=Adam(learning_rate=0.0001), metrics=['accuracy'])\n",
    "ann_model.summary()\n"
   ]
  },
  {
   "cell_type": "code",
   "execution_count": 61,
   "metadata": {},
   "outputs": [],
   "source": [
    "#split the dataset into training and testing sets\n",
    "from sklearn.model_selection import train_test_split\n",
    "X_train, X_test, y_train, y_test = train_test_split(X_pca, y, test_size=0.2, random_state=42)"
   ]
  },
  {
   "cell_type": "code",
   "execution_count": 62,
   "metadata": {},
   "outputs": [
    {
     "name": "stdout",
     "output_type": "stream",
     "text": [
      "Epoch 1/30\n",
      "102/102 [==============================] - 1s 4ms/step - loss: 0.6907 - accuracy: 0.5172 - val_loss: 0.6811 - val_accuracy: 0.5907\n",
      "Epoch 2/30\n",
      "102/102 [==============================] - 0s 3ms/step - loss: 0.6708 - accuracy: 0.6164 - val_loss: 0.6723 - val_accuracy: 0.6691\n",
      "Epoch 3/30\n",
      "102/102 [==============================] - 0s 3ms/step - loss: 0.6506 - accuracy: 0.6801 - val_loss: 0.6640 - val_accuracy: 0.6814\n",
      "Epoch 4/30\n",
      "102/102 [==============================] - 0s 3ms/step - loss: 0.6332 - accuracy: 0.7132 - val_loss: 0.6555 - val_accuracy: 0.6667\n",
      "Epoch 5/30\n",
      "102/102 [==============================] - 0s 3ms/step - loss: 0.6115 - accuracy: 0.7525 - val_loss: 0.6454 - val_accuracy: 0.6863\n",
      "Epoch 6/30\n",
      "102/102 [==============================] - 0s 3ms/step - loss: 0.5928 - accuracy: 0.7616 - val_loss: 0.6354 - val_accuracy: 0.6887\n",
      "Epoch 7/30\n",
      "102/102 [==============================] - 0s 3ms/step - loss: 0.5696 - accuracy: 0.7923 - val_loss: 0.6248 - val_accuracy: 0.6838\n",
      "Epoch 8/30\n",
      "102/102 [==============================] - 0s 3ms/step - loss: 0.5403 - accuracy: 0.8248 - val_loss: 0.6142 - val_accuracy: 0.6740\n",
      "Epoch 9/30\n",
      "102/102 [==============================] - 0s 3ms/step - loss: 0.5202 - accuracy: 0.8254 - val_loss: 0.6043 - val_accuracy: 0.6789\n",
      "Epoch 10/30\n",
      "102/102 [==============================] - 0s 3ms/step - loss: 0.4939 - accuracy: 0.8321 - val_loss: 0.5953 - val_accuracy: 0.6789\n",
      "Epoch 11/30\n",
      "102/102 [==============================] - 0s 3ms/step - loss: 0.4659 - accuracy: 0.8511 - val_loss: 0.5876 - val_accuracy: 0.6814\n",
      "Epoch 12/30\n",
      "102/102 [==============================] - 0s 3ms/step - loss: 0.4367 - accuracy: 0.8707 - val_loss: 0.5812 - val_accuracy: 0.6838\n",
      "Epoch 13/30\n",
      "102/102 [==============================] - 0s 3ms/step - loss: 0.4087 - accuracy: 0.8873 - val_loss: 0.5755 - val_accuracy: 0.6887\n",
      "Epoch 14/30\n",
      "102/102 [==============================] - 0s 3ms/step - loss: 0.3886 - accuracy: 0.8989 - val_loss: 0.5716 - val_accuracy: 0.6887\n",
      "Epoch 15/30\n",
      "102/102 [==============================] - 0s 3ms/step - loss: 0.3573 - accuracy: 0.9112 - val_loss: 0.5686 - val_accuracy: 0.6912\n",
      "Epoch 16/30\n",
      "102/102 [==============================] - 0s 3ms/step - loss: 0.3383 - accuracy: 0.9142 - val_loss: 0.5672 - val_accuracy: 0.6912\n",
      "Epoch 17/30\n",
      "102/102 [==============================] - 0s 3ms/step - loss: 0.3121 - accuracy: 0.9350 - val_loss: 0.5674 - val_accuracy: 0.6961\n",
      "Epoch 18/30\n",
      "102/102 [==============================] - 0s 3ms/step - loss: 0.2955 - accuracy: 0.9320 - val_loss: 0.5671 - val_accuracy: 0.6936\n",
      "Epoch 19/30\n",
      "102/102 [==============================] - 0s 3ms/step - loss: 0.2684 - accuracy: 0.9473 - val_loss: 0.5681 - val_accuracy: 0.6985\n",
      "Epoch 20/30\n",
      "102/102 [==============================] - 0s 3ms/step - loss: 0.2528 - accuracy: 0.9485 - val_loss: 0.5702 - val_accuracy: 0.7059\n",
      "Epoch 21/30\n",
      "102/102 [==============================] - 0s 3ms/step - loss: 0.2414 - accuracy: 0.9522 - val_loss: 0.5727 - val_accuracy: 0.7108\n",
      "Epoch 22/30\n",
      "102/102 [==============================] - 0s 3ms/step - loss: 0.2230 - accuracy: 0.9553 - val_loss: 0.5761 - val_accuracy: 0.7083\n",
      "Epoch 23/30\n",
      "102/102 [==============================] - 0s 3ms/step - loss: 0.2064 - accuracy: 0.9614 - val_loss: 0.5815 - val_accuracy: 0.7132\n",
      "Epoch 24/30\n",
      "102/102 [==============================] - 0s 3ms/step - loss: 0.1863 - accuracy: 0.9669 - val_loss: 0.5862 - val_accuracy: 0.7059\n",
      "Epoch 25/30\n",
      "102/102 [==============================] - 0s 3ms/step - loss: 0.1706 - accuracy: 0.9669 - val_loss: 0.5923 - val_accuracy: 0.7083\n",
      "Epoch 26/30\n",
      "102/102 [==============================] - 0s 3ms/step - loss: 0.1646 - accuracy: 0.9743 - val_loss: 0.5987 - val_accuracy: 0.7059\n",
      "Epoch 27/30\n",
      "102/102 [==============================] - 0s 3ms/step - loss: 0.1540 - accuracy: 0.9749 - val_loss: 0.6045 - val_accuracy: 0.7108\n",
      "Epoch 28/30\n",
      "102/102 [==============================] - 0s 3ms/step - loss: 0.1351 - accuracy: 0.9755 - val_loss: 0.6145 - val_accuracy: 0.7059\n",
      "Epoch 29/30\n",
      "102/102 [==============================] - 0s 3ms/step - loss: 0.1275 - accuracy: 0.9804 - val_loss: 0.6234 - val_accuracy: 0.7083\n",
      "Epoch 30/30\n",
      "102/102 [==============================] - 0s 3ms/step - loss: 0.1272 - accuracy: 0.9761 - val_loss: 0.6321 - val_accuracy: 0.7059\n"
     ]
    }
   ],
   "source": [
    "# Train the model\n",
    "history = ann_model.fit(X_train, y_train, epochs=30, batch_size=16, validation_split=0.2)\n"
   ]
  },
  {
   "cell_type": "code",
   "execution_count": 63,
   "metadata": {},
   "outputs": [
    {
     "name": "stdout",
     "output_type": "stream",
     "text": [
      "16/16 [==============================] - 0s 1ms/step\n"
     ]
    },
    {
     "data": {
      "image/png": "[encoded data removed]",
      "text/plain": [
       "<Figure size 600x600 with 1 Axes>"
      ]
     },
     "metadata": {},
     "output_type": "display_data"
    }
   ],
   "source": [
    "from sklearn.metrics import confusion_matrix\n",
    "import seaborn as sns\n",
    "import matplotlib.pyplot as plt\n",
    "# Make predictions on the test data\n",
    "y_pred_proba = ann_model.predict(X_test)\n",
    "y_pred = (y_pred_proba > 0.5).astype(int).flatten()\n",
    "\n",
    "# Calculate the confusion matrix\n",
    "cm = confusion_matrix(y_test, y_pred)\n",
    "\n",
    "# Visualize the confusion matrix as a heatmap\n",
    "plt.figure(figsize=(6, 6))\n",
    "sns.heatmap(cm, annot=True, fmt='d', cmap='Blues', cbar=False, square=True)\n",
    "plt.xlabel('Predicted Label')\n",
    "plt.ylabel('True Label')\n",
    "plt.title('Confusion Matrix')\n",
    "plt.show()\n"
   ]
  },
  {
   "cell_type": "code",
   "execution_count": 64,
   "metadata": {},
   "outputs": [
    {
     "name": "stdout",
     "output_type": "stream",
     "text": [
      "Sensitivity (Recall): 0.58\n",
      "Precision: 0.71\n",
      "Positive Predictive Value (PPV): 0.71\n",
      "Negative Predictive Value (NPV): 0.73\n"
     ]
    }
   ],
   "source": [
    "# Extract the values from the confusion matrix\n",
    "TN, FP, FN, TP = cm.ravel()\n",
    "\n",
    "# Calculate Sensitivity (Recall)\n",
    "sensitivity = TP / (TP + FN)\n",
    "\n",
    "# Calculate Precision\n",
    "precision = TP / (TP + FP)\n",
    "\n",
    "# Calculate PPV (same as Precision)\n",
    "ppv = precision\n",
    "\n",
    "# Calculate NPV\n",
    "npv = TN / (TN + FN)\n",
    "\n",
    "print(f\"Sensitivity (Recall): {sensitivity:.2f}\")\n",
    "print(f\"Precision: {precision:.2f}\")\n",
    "print(f\"Positive Predictive Value (PPV): {ppv:.2f}\")\n",
    "print(f\"Negative Predictive Value (NPV): {npv:.2f}\")\n"
   ]
  },
  {
   "cell_type": "code",
   "execution_count": 65,
   "metadata": {},
   "outputs": [
    {
     "data": {
      "image/png": "[encoded data removed]",
      "text/plain": [
       "<Figure size 600x600 with 1 Axes>"
      ]
     },
     "metadata": {},
     "output_type": "display_data"
    }
   ],
   "source": [
    "from sklearn.metrics import roc_curve, auc\n",
    "\n",
    "# Calculate the false positive rate (FPR), true positive rate (TPR), and AUC\n",
    "fpr, tpr, thresholds = roc_curve(y_test, y_pred_proba)\n",
    "roc_auc = auc(fpr, tpr)\n",
    "\n",
    "# Plot the ROC curve\n",
    "plt.figure(figsize=(6, 6))\n",
    "plt.plot(fpr, tpr, color='darkorange', lw=2, label=f'ROC curve (AUC = {roc_auc:.2f})')\n",
    "plt.plot([0, 1], [0, 1], color='navy', lw=2, linestyle='--')\n",
    "plt.xlim([0.0, 1.0])\n",
    "plt.ylim([0.0, 1.05])\n",
    "plt.xlabel('False Positive Rate')\n",
    "plt.ylabel('True Positive Rate')\n",
    "plt.title('ROC Curve')\n",
    "plt.legend(loc=\"lower right\")\n",
    "plt.show()\n"
   ]
  }
 ],
 "metadata": {
  "kernelspec": {
   "display_name": "Python 3",
   "language": "python",
   "name": "python3"
  },
  "language_info": {
   "codemirror_mode": {
    "name": "ipython",
    "version": 3
   },
   "file_extension": ".py",
   "mimetype": "text/x-python",
   "name": "python",
   "nbconvert_exporter": "python",
   "pygments_lexer": "ipython3",
   "version": "3.11.2"
  },
  "orig_nbformat": 4
 },
 "nbformat": 4,
 "nbformat_minor": 2
}
