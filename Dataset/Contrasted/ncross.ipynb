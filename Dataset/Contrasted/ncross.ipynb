{
 "cells": [
  {
   "cell_type": "code",
   "execution_count": 1,
   "metadata": {},
   "outputs": [],
   "source": [
    "import os\n",
    "import shutil\n",
    "from sklearn.model_selection import KFold\n",
    "\n",
    "# Set the path to the main folder containing the subfolders of images\n",
    "main_folder = r'C:\\Users\\786me\\Desktop\\FinalYearProject\\ASDScanPath\\ASD\\Contrasted\\Dataset'\n",
    "\n",
    "# Set the number of folds you want to create\n",
    "n_folds = 10\n",
    "\n",
    "# Use the KFold class from scikit-learn to generate the folds\n",
    "kf = KFold(n_splits=n_folds, shuffle=True, random_state=42)\n",
    "\n",
    "# Loop over the subfolders and create the folds\n",
    "for subfolder in os.listdir(main_folder):\n",
    "    class_folder = os.path.join(main_folder, subfolder)\n",
    "    if os.path.isdir(class_folder):\n",
    "        for fold, (train_index, test_index) in enumerate(kf.split(os.listdir(class_folder))):\n",
    "            # Create a new folder for the current fold\n",
    "            fold_folder = os.path.join(main_folder, f'fold_{fold+1}')\n",
    "            os.makedirs(fold_folder, exist_ok=True)\n",
    "\n",
    "            # Copy the training images to the current fold folder\n",
    "            train_folder = os.path.join(fold_folder, 'train', subfolder)\n",
    "            os.makedirs(train_folder, exist_ok=True)\n",
    "            for i in train_index:\n",
    "                src_path = os.path.join(class_folder, os.listdir(class_folder)[i])\n",
    "                dst_path = os.path.join(train_folder, os.path.basename(src_path))\n",
    "                shutil.copy(src_path, dst_path)\n",
    "\n",
    "            # Copy the testing images to the current fold folder\n",
    "            test_folder = os.path.join(fold_folder, 'test', subfolder)\n",
    "            os.makedirs(test_folder, exist_ok=True)\n",
    "            for i in test_index:\n",
    "                src_path = os.path.join(class_folder, os.listdir(class_folder)[i])\n",
    "                dst_path = os.path.join(test_folder, os.path.basename(src_path))\n",
    "                shutil.copy(src_path, dst_path)"
   ]
  }
 ],
 "metadata": {
  "kernelspec": {
   "display_name": "Python 3",
   "language": "python",
   "name": "python3"
  },
  "language_info": {
   "codemirror_mode": {
    "name": "ipython",
    "version": 3
   },
   "file_extension": ".py",
   "mimetype": "text/x-python",
   "name": "python",
   "nbconvert_exporter": "python",
   "pygments_lexer": "ipython3",
   "version": "3.11.2"
  },
  "orig_nbformat": 4
 },
 "nbformat": 4,
 "nbformat_minor": 2
}
