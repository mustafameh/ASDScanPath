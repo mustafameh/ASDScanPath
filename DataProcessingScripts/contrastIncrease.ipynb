{
 "cells": [
  {
   "cell_type": "code",
   "execution_count": 4,
   "metadata": {},
   "outputs": [],
   "source": [
    "import os\n",
    "import cv2\n",
    "import numpy as np\n",
    "from imutils import paths\n"
   ]
  },
  {
   "cell_type": "code",
   "execution_count": 5,
   "metadata": {},
   "outputs": [],
   "source": [
    "# Set the parent folder (A) and the new folder for preprocessed images\n",
    "input_folder = r'ASD\\Images'\n",
    "output_folder = r'C:\\Users\\786me\\Desktop\\FinalYearProject\\ASDScanPath\\ASD\\Contrasted'"
   ]
  },
  {
   "cell_type": "code",
   "execution_count": 6,
   "metadata": {},
   "outputs": [],
   "source": [
    "subfolders = [f.path for f in os.scandir(input_folder) if f.is_dir()]"
   ]
  },
  {
   "cell_type": "code",
   "execution_count": 7,
   "metadata": {},
   "outputs": [],
   "source": [
    "def increase_contrast(image, alpha, beta):\n",
    "    \"\"\"\n",
    "    Increase the contrast of an image while keeping black pixels unchanged.\n",
    "    :param image: Input image (numpy array)\n",
    "    :param alpha: Contrast control (1.0-3.0)\n",
    "    :param beta: Brightness control (0-100)\n",
    "    :return: Output image with increased contrast\n",
    "    \"\"\"\n",
    "    adjusted_image = np.zeros(image.shape, image.dtype)\n",
    "    adjusted_image = cv2.convertScaleAbs(image, alpha=alpha, beta=beta)\n",
    "\n",
    "    # Keep original black pixels unchanged\n",
    "    black_mask = (image == 0)\n",
    "    adjusted_image[black_mask] = 0\n",
    "\n",
    "    return adjusted_image"
   ]
  },
  {
   "cell_type": "code",
   "execution_count": 9,
   "metadata": {},
   "outputs": [],
   "source": [
    "# Parameters for contrast enhancement\n",
    "alpha = 1.5  # Contrast control (1.0-3.0)\n",
    "beta = 50    # Brightness control (0-100)"
   ]
  },
  {
   "cell_type": "code",
   "execution_count": 10,
   "metadata": {},
   "outputs": [],
   "source": [
    "# Iterate through subfolders and process images\n",
    "for subfolder in subfolders:\n",
    "    # Get the class name from the subfolder name\n",
    "    class_name = os.path.basename(subfolder)\n",
    "\n",
    "    # Create a new subfolder in the output folder for the preprocessed images\n",
    "    output_subfolder = os.path.join(output_folder, class_name)\n",
    "    if not os.path.exists(output_subfolder):\n",
    "        os.makedirs(output_subfolder)\n",
    "\n",
    "    # Iterate through the images in the subfolder\n",
    "    for image_path in paths.list_images(subfolder):\n",
    "        # Read the image\n",
    "        image = cv2.imread(image_path)\n",
    "\n",
    "        # Increase contrast\n",
    "        contrast_image = increase_contrast(image, alpha, beta)\n",
    "\n",
    "        # Save the preprocessed image to the output folder\n",
    "        output_image_path = os.path.join(output_subfolder, os.path.basename(image_path))\n",
    "        cv2.imwrite(output_image_path, contrast_image)"
   ]
  }
 ],
 "metadata": {
  "kernelspec": {
   "display_name": "Python 3",
   "language": "python",
   "name": "python3"
  },
  "language_info": {
   "codemirror_mode": {
    "name": "ipython",
    "version": 3
   },
   "file_extension": ".py",
   "mimetype": "text/x-python",
   "name": "python",
   "nbconvert_exporter": "python",
   "pygments_lexer": "ipython3",
   "version": "3.11.2"
  },
  "orig_nbformat": 4
 },
 "nbformat": 4,
 "nbformat_minor": 2
}
