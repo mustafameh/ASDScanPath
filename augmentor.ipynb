{
 "cells": [
  {
   "cell_type": "code",
   "execution_count": 4,
   "metadata": {},
   "outputs": [],
   "source": [
    "from keras.preprocessing.image import ImageDataGenerator\n",
    "from tensorflow.keras.utils import img_to_array, load_img\n",
    "import glob\n",
    "\n",
    "\n",
    "#Setting the initial parameters for the image augmentation process\n",
    "augmenter = ImageDataGenerator(\n",
    "    rotation_range=10,\n",
    "        shear_range=0.2,\n",
    "        zoom_range=0.2,\n",
    "        fill_mode='nearest')\n"
   ]
  },
  {
   "cell_type": "code",
   "execution_count": 5,
   "metadata": {},
   "outputs": [
    {
     "name": "stdout",
     "output_type": "stream",
     "text": [
      "Augmenting Patient Samples:\n",
      "Current File: ASD\\Images\\Patient\n"
     ]
    },
    {
     "ename": "PermissionError",
     "evalue": "[Errno 13] Permission denied: 'ASD\\\\Images\\\\Patient'",
     "output_type": "error",
     "traceback": [
      "\u001b[1;31m---------------------------------------------------------------------------\u001b[0m",
      "\u001b[1;31mPermissionError\u001b[0m                           Traceback (most recent call last)",
      "Cell \u001b[1;32mIn[5], line 5\u001b[0m\n\u001b[0;32m      3\u001b[0m \u001b[39mfor\u001b[39;00m file \u001b[39min\u001b[39;00m glob\u001b[39m.\u001b[39miglob(\u001b[39mr\u001b[39m\u001b[39m\"\u001b[39m\u001b[39mASD\u001b[39m\u001b[39m\\\u001b[39m\u001b[39mImages\u001b[39m\u001b[39m\\\u001b[39m\u001b[39mPatient\u001b[39m\u001b[39m\"\u001b[39m):\n\u001b[0;32m      4\u001b[0m     \u001b[39mprint\u001b[39m(\u001b[39m\"\u001b[39m\u001b[39mCurrent File:\u001b[39m\u001b[39m\"\u001b[39m, file)\n\u001b[1;32m----> 5\u001b[0m     img \u001b[39m=\u001b[39m load_img(file) \n\u001b[0;32m      6\u001b[0m     img \u001b[39m=\u001b[39m img_to_array(img)  \u001b[39m# Numpy array with shape (3, 150, 150)\u001b[39;00m\n\u001b[0;32m      7\u001b[0m     img \u001b[39m=\u001b[39m img\u001b[39m.\u001b[39mreshape((\u001b[39m1\u001b[39m,) \u001b[39m+\u001b[39m img\u001b[39m.\u001b[39mshape)  \u001b[39m# Numpy array with shape (1, 3, 150, 150)\u001b[39;00m\n",
      "File \u001b[1;32m~\\AppData\\Roaming\\Python\\Python311\\site-packages\\keras\\utils\\image_utils.py:422\u001b[0m, in \u001b[0;36mload_img\u001b[1;34m(path, grayscale, color_mode, target_size, interpolation, keep_aspect_ratio)\u001b[0m\n\u001b[0;32m    420\u001b[0m     \u001b[39mif\u001b[39;00m \u001b[39misinstance\u001b[39m(path, pathlib\u001b[39m.\u001b[39mPath):\n\u001b[0;32m    421\u001b[0m         path \u001b[39m=\u001b[39m \u001b[39mstr\u001b[39m(path\u001b[39m.\u001b[39mresolve())\n\u001b[1;32m--> 422\u001b[0m     \u001b[39mwith\u001b[39;00m \u001b[39mopen\u001b[39;49m(path, \u001b[39m\"\u001b[39;49m\u001b[39mrb\u001b[39;49m\u001b[39m\"\u001b[39;49m) \u001b[39mas\u001b[39;00m f:\n\u001b[0;32m    423\u001b[0m         img \u001b[39m=\u001b[39m pil_image\u001b[39m.\u001b[39mopen(io\u001b[39m.\u001b[39mBytesIO(f\u001b[39m.\u001b[39mread()))\n\u001b[0;32m    424\u001b[0m \u001b[39melse\u001b[39;00m:\n",
      "\u001b[1;31mPermissionError\u001b[0m: [Errno 13] Permission denied: 'ASD\\\\Images\\\\Patient'"
     ]
    }
   ],
   "source": [
    "imgCount=5 #The selected number of images to be augmented for every image file\n",
    "print(\"Augmenting Patient Samples:\")\n",
    "for file in glob.iglob(r\"ASD\\Images\\Patient\"):\n",
    "    print(\"Current File:\", file)\n",
    "    img = load_img(file) \n",
    "    img = img_to_array(img)  # Numpy array with shape (3, 150, 150)\n",
    "    img = img.reshape((1,) + img.shape)  # Numpy array with shape (1, 3, 150, 150)\n",
    "\n",
    "    i = 0\n",
    "    for batch in augmenter.flow(img, batch_size=1,\n",
    "                              save_to_dir=r\"ASD\\Augmented\\Patient\", save_prefix='TC_Aug', save_format='png'):\n",
    "        i += 1\n",
    "        if i == imgCount:\n",
    "            break\n",
    "\n"
   ]
  },
  {
   "cell_type": "code",
   "execution_count": null,
   "metadata": {},
   "outputs": [],
   "source": []
  }
 ],
 "metadata": {
  "kernelspec": {
   "display_name": "Python 3",
   "language": "python",
   "name": "python3"
  },
  "language_info": {
   "codemirror_mode": {
    "name": "ipython",
    "version": 3
   },
   "file_extension": ".py",
   "mimetype": "text/x-python",
   "name": "python",
   "nbconvert_exporter": "python",
   "pygments_lexer": "ipython3",
   "version": "3.11.2"
  },
  "orig_nbformat": 4
 },
 "nbformat": 4,
 "nbformat_minor": 2
}
