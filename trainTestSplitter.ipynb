{
 "cells": [
  {
   "cell_type": "code",
   "execution_count": 1,
   "metadata": {},
   "outputs": [],
   "source": [
    "import os\n",
    "import shutil\n",
    "import random"
   ]
  },
  {
   "cell_type": "code",
   "execution_count": 2,
   "metadata": {},
   "outputs": [],
   "source": [
    "main_folder = r\"ASD\\Augmented\\Control\"\n",
    "train_folder = r\"ASD\\AugTrainTest\\train\\Control\"\n",
    "test_folder = r\"ASD\\AugTrainTest\\test\\Control\""
   ]
  },
  {
   "cell_type": "code",
   "execution_count": 7,
   "metadata": {},
   "outputs": [],
   "source": [
    "png_files = [f for f in os.listdir(main_folder) if f.endswith('.png')]\n",
    "num_files = len(png_files)\n",
    "num_train_files = int(num_files * 0.8)\n",
    "num_test_files = num_files - num_train_files"
   ]
  },
  {
   "cell_type": "code",
   "execution_count": 8,
   "metadata": {},
   "outputs": [],
   "source": [
    "random.shuffle(png_files)"
   ]
  },
  {
   "cell_type": "code",
   "execution_count": 9,
   "metadata": {},
   "outputs": [],
   "source": [
    "train_files = png_files[:num_train_files]\n",
    "test_files = png_files[num_train_files:]"
   ]
  },
  {
   "cell_type": "code",
   "execution_count": 10,
   "metadata": {},
   "outputs": [],
   "source": [
    "for filename in train_files:\n",
    "    src_path = os.path.join(main_folder, filename)\n",
    "    dst_path = os.path.join(train_folder, filename)\n",
    "    shutil.copyfile(src_path, dst_path)\n",
    "\n",
    "for filename in test_files:\n",
    "    src_path = os.path.join(main_folder, filename)\n",
    "    dst_path = os.path.join(test_folder, filename)\n",
    "    shutil.copyfile(src_path, dst_path)"
   ]
  },
  {
   "cell_type": "code",
   "execution_count": 11,
   "metadata": {},
   "outputs": [],
   "source": [
    "main_folder = r\"ASD\\Augmented\\Patient\"\n",
    "train_folder = r\"ASD\\AugTrainTest\\train\\Patient\"\n",
    "test_folder = r\"ASD\\AugTrainTest\\test\\Patient\""
   ]
  },
  {
   "cell_type": "code",
   "execution_count": 12,
   "metadata": {},
   "outputs": [],
   "source": [
    "png_files = [f for f in os.listdir(main_folder) if f.endswith('.png')]\n",
    "num_files = len(png_files)\n",
    "num_train_files = int(num_files * 0.8)\n",
    "num_test_files = num_files - num_train_files"
   ]
  },
  {
   "cell_type": "code",
   "execution_count": 13,
   "metadata": {},
   "outputs": [],
   "source": [
    "random.shuffle(png_files)\n",
    "train_files = png_files[:num_train_files]\n",
    "test_files = png_files[num_train_files:]\n",
    "for filename in train_files:\n",
    "    src_path = os.path.join(main_folder, filename)\n",
    "    dst_path = os.path.join(train_folder, filename)\n",
    "    shutil.copyfile(src_path, dst_path)\n",
    "\n",
    "for filename in test_files:\n",
    "    src_path = os.path.join(main_folder, filename)\n",
    "    dst_path = os.path.join(test_folder, filename)\n",
    "    shutil.copyfile(src_path, dst_path)"
   ]
  },
  {
   "cell_type": "code",
   "execution_count": null,
   "metadata": {},
   "outputs": [],
   "source": []
  }
 ],
 "metadata": {
  "kernelspec": {
   "display_name": "Python 3",
   "language": "python",
   "name": "python3"
  },
  "language_info": {
   "codemirror_mode": {
    "name": "ipython",
    "version": 3
   },
   "file_extension": ".py",
   "mimetype": "text/x-python",
   "name": "python",
   "nbconvert_exporter": "python",
   "pygments_lexer": "ipython3",
   "version": "3.11.2"
  },
  "orig_nbformat": 4
 },
 "nbformat": 4,
 "nbformat_minor": 2
}
