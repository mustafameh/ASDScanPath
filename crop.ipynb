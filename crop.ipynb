{
 "cells": [
  {
   "cell_type": "code",
   "execution_count": 4,
   "metadata": {},
   "outputs": [],
   "source": [
    "import cv2\n",
    "import glob, os\n",
    "\n",
    "imgDim = 224\n",
    "\n",
    "for imgFile in glob.iglob(\"ASD/Contrasted/Control/*.png\", recursive=True):\n",
    "    imgID = os.path.basename(imgFile).split(\".png\")[0]\n",
    "\n",
    "    img = cv2.imread(imgFile)\n",
    "    grayImg = cv2.cvtColor(img, cv2.COLOR_BGR2GRAY)\n",
    "\n",
    "    # Thresholding\n",
    "    th, threshed = cv2.threshold(grayImg, 0, 255, cv2.THRESH_BINARY)\n",
    "    # Find the max-area contour\n",
    "    contours, hierarchy = cv2.findContours(threshed, cv2.RETR_EXTERNAL, cv2.CHAIN_APPROX_SIMPLE)\n",
    "    cnt = sorted(contours, key=cv2.contourArea)[-1]\n",
    "    x, y, w, h = cv2.boundingRect(cnt)\n",
    "    imgCropped = img[y:y + h, x:x + w]  # Cropped\n",
    "    savePath = r'ASD\\CroppedContrasted\\Control\\{}.png'.format(imgID)\n",
    "    cv2.imwrite(savePath, imgCropped)\n"
   ]
  },
  {
   "cell_type": "code",
   "execution_count": null,
   "metadata": {},
   "outputs": [],
   "source": [
    "for imgFile in glob.iglob(\"ASD/Contrasted/Patient/*.png\", recursive=True):\n",
    "    imgID = os.path.basename(imgFile).split(\".png\")[0]\n",
    "\n",
    "    img = cv2.imread(imgFile)\n",
    "    grayImg = cv2.cvtColor(img, cv2.COLOR_BGR2GRAY)\n",
    "\n",
    "    # Thresholding\n",
    "    th, threshed = cv2.threshold(grayImg, 0, 255, cv2.THRESH_BINARY)\n",
    "    # Find the max-area contour\n",
    "    contours, hierarchy = cv2.findContours(threshed, cv2.RETR_EXTERNAL, cv2.CHAIN_APPROX_SIMPLE)\n",
    "    cnt = sorted(contours, key=cv2.contourArea)[-1]\n",
    "    x, y, w, h = cv2.boundingRect(cnt)\n",
    "    imgCropped = img[y:y + h, x:x + w]  # Cropped\n",
    "    savePath = r'ASD\\CroppedContrasted\\Patient\\{}.png'.format(imgID)\n",
    "    cv2.imwrite(savePath, imgCropped)"
   ]
  }
 ],
 "metadata": {
  "kernelspec": {
   "display_name": "Python 3",
   "language": "python",
   "name": "python3"
  },
  "language_info": {
   "codemirror_mode": {
    "name": "ipython",
    "version": 3
   },
   "file_extension": ".py",
   "mimetype": "text/x-python",
   "name": "python",
   "nbconvert_exporter": "python",
   "pygments_lexer": "ipython3",
   "version": "3.11.2"
  },
  "orig_nbformat": 4
 },
 "nbformat": 4,
 "nbformat_minor": 2
}
