{
 "cells": [
  {
   "cell_type": "code",
   "execution_count": 1,
   "metadata": {},
   "outputs": [],
   "source": [
    "import numpy as np\n",
    "import tensorflow as tf\n",
    "from tensorflow.keras.preprocessing.image import ImageDataGenerator\n",
    "from tensorflow.keras.models import Sequential\n",
    "from tensorflow.keras.layers import Conv2D, MaxPooling2D, Dense, Dropout, Flatten, LSTM, TimeDistributed, Reshape\n",
    "from tensorflow.keras.optimizers import Adam\n",
    "import matplotlib.pyplot as plt\n",
    "import numpy as np\n",
    "input_shape=[200,200,3]\n",
    "def to_grayscale_then_rgb(image):\n",
    "    image = tf.image.rgb_to_grayscale(image)\n",
    "    image = tf.image.grayscale_to_rgb(image)\n",
    "    return image"
   ]
  },
  {
   "cell_type": "code",
   "execution_count": 2,
   "metadata": {},
   "outputs": [],
   "source": [
    "img_height, img_width = 128, 128  # Adjust as needed\n",
    "batch_size = 32\n",
    "num_classes = 2\n",
    "num_channels = 3  # Assuming RGB images\n",
    "patch_size = 4  # Size of each patch"
   ]
  },
  {
   "cell_type": "code",
   "execution_count": 3,
   "metadata": {},
   "outputs": [
    {
     "name": "stdout",
     "output_type": "stream",
     "text": [
      "Found 400 images belonging to 2 classes.\n",
      "Found 147 images belonging to 2 classes.\n"
     ]
    }
   ],
   "source": [
    "train_datagen = ImageDataGenerator(\n",
    "    rescale=1./255, \n",
    "    #preprocessing_function=to_grayscale_then_rgb,\n",
    "    validation_split=0.27)\n",
    "\n",
    "train_generator = train_datagen.flow_from_directory(\n",
    "    r\"C:\\Users\\786me\\Desktop\\FinalYearProject\\ASDScanPath\\ASD\\Contrasted\\Dataset\",\n",
    "    target_size=(img_height, img_width),\n",
    "    batch_size=8,\n",
    "    class_mode='binary',\n",
    "    subset='training') # set as training data\n",
    "\n",
    "validation_generator = train_datagen.flow_from_directory(\n",
    "    r\"C:\\Users\\786me\\Desktop\\FinalYearProject\\ASDScanPath\\ASD\\Contrasted\\Dataset\", # same directory as training data\n",
    "    target_size=(img_height, img_width),\n",
    "    batch_size=1,\n",
    "    class_mode='binary',\n",
    "    subset='validation')"
   ]
  },
  {
   "cell_type": "code",
   "execution_count": 4,
   "metadata": {},
   "outputs": [
    {
     "data": {
      "image/png": "[encoded data removed]",
      "text/plain": [
       "<Figure size 640x480 with 2 Axes>"
      ]
     },
     "metadata": {},
     "output_type": "display_data"
    }
   ],
   "source": [
    "images, labels = train_generator.next()\n",
    "\n",
    "fig, axes = plt.subplots(1, 2)\n",
    "for i, ax in enumerate(axes.flat):\n",
    "    ax.imshow(images[i])\n",
    "    ax.set_title(labels[i])\n",
    "# show the figure\n",
    "plt.show()"
   ]
  },
  {
   "cell_type": "code",
   "execution_count": 5,
   "metadata": {},
   "outputs": [],
   "source": [
    "model = tf.keras.models.Sequential()\n",
    "\n",
    "# CNN layers\n",
    "model.add(Conv2D(32, (5, 5), activation='relu', input_shape=(img_height, img_width, num_channels)))\n",
    "model.add(MaxPooling2D(pool_size=(2, 2)))\n",
    "model.add(Conv2D(64, (3, 3), activation='relu'))\n",
    "model.add(MaxPooling2D(pool_size=(2, 2)))"
   ]
  },
  {
   "cell_type": "code",
   "execution_count": 6,
   "metadata": {},
   "outputs": [],
   "source": [
    "# Flatten the feature maps and reshape them into sequences\n",
    "model.add(Flatten())\n",
    "sequence_length = img_height // (2 ** 2)  # Assuming two max-pooling layers\n",
    "model.add(Reshape((sequence_length, -1)))  # Reshape into a sequence of feature vectors"
   ]
  },
  {
   "cell_type": "code",
   "execution_count": 7,
   "metadata": {},
   "outputs": [
    {
     "name": "stdout",
     "output_type": "stream",
     "text": [
      "Model: \"sequential\"\n",
      "_________________________________________________________________\n",
      " Layer (type)                Output Shape              Param #   \n",
      "=================================================================\n",
      " conv2d (Conv2D)             (None, 124, 124, 32)      2432      \n",
      "                                                                 \n",
      " max_pooling2d (MaxPooling2D  (None, 62, 62, 32)       0         \n",
      " )                                                               \n",
      "                                                                 \n",
      " conv2d_1 (Conv2D)           (None, 60, 60, 64)        18496     \n",
      "                                                                 \n",
      " max_pooling2d_1 (MaxPooling  (None, 30, 30, 64)       0         \n",
      " 2D)                                                             \n",
      "                                                                 \n",
      " flatten (Flatten)           (None, 57600)             0         \n",
      "                                                                 \n",
      " reshape (Reshape)           (None, 32, 1800)          0         \n",
      "                                                                 \n",
      " lstm (LSTM)                 (None, 32, 128)           987648    \n",
      "                                                                 \n",
      " lstm_1 (LSTM)               (None, 32, 64)            49408     \n",
      "                                                                 \n",
      " lstm_2 (LSTM)               (None, 32)                12416     \n",
      "                                                                 \n",
      " dense (Dense)               (None, 128)               4224      \n",
      "                                                                 \n",
      " dropout (Dropout)           (None, 128)               0         \n",
      "                                                                 \n",
      " dense_1 (Dense)             (None, 64)                8256      \n",
      "                                                                 \n",
      " dense_2 (Dense)             (None, 1)                 65        \n",
      "                                                                 \n",
      "=================================================================\n",
      "Total params: 1,082,945\n",
      "Trainable params: 1,082,945\n",
      "Non-trainable params: 0\n",
      "_________________________________________________________________\n"
     ]
    }
   ],
   "source": [
    "# LSTM layer\n",
    "model.add(LSTM(128, return_sequences=True))\n",
    "model.add(LSTM(64, return_sequences=True))\n",
    "model.add(LSTM(32)) \n",
    "# Fully connected layer and output\n",
    "# Dense layers\n",
    "model.add(Dense(128, activation='relu'))\n",
    "model.add(Dropout(0.5))\n",
    "model.add(Dense(64, activation='relu'))\n",
    "\n",
    "#Outputlayer\n",
    "model.add(Dense(1, activation='sigmoid'))\n",
    "\n",
    "model.summary()"
   ]
  },
  {
   "cell_type": "code",
   "execution_count": 8,
   "metadata": {},
   "outputs": [
    {
     "name": "stdout",
     "output_type": "stream",
     "text": [
      "Epoch 1/10\n",
      "50/50 [==============================] - 16s 199ms/step - loss: 0.6689 - accuracy: 0.5950 - val_loss: 0.5962 - val_accuracy: 0.7007\n",
      "Epoch 2/10\n",
      "50/50 [==============================] - 9s 176ms/step - loss: 0.6454 - accuracy: 0.6075 - val_loss: 0.6046 - val_accuracy: 0.5986\n",
      "Epoch 3/10\n",
      "50/50 [==============================] - 9s 177ms/step - loss: 0.6094 - accuracy: 0.6550 - val_loss: 0.5546 - val_accuracy: 0.7551\n",
      "Epoch 4/10\n",
      "50/50 [==============================] - 9s 178ms/step - loss: 0.5539 - accuracy: 0.7250 - val_loss: 0.4975 - val_accuracy: 0.7279\n",
      "Epoch 5/10\n",
      "50/50 [==============================] - 9s 177ms/step - loss: 0.5403 - accuracy: 0.7475 - val_loss: 0.5389 - val_accuracy: 0.7415\n",
      "Epoch 6/10\n",
      "50/50 [==============================] - 9s 178ms/step - loss: 0.5104 - accuracy: 0.7525 - val_loss: 0.4777 - val_accuracy: 0.7687\n",
      "Epoch 7/10\n",
      "50/50 [==============================] - 8s 169ms/step - loss: 0.4961 - accuracy: 0.7500 - val_loss: 0.5029 - val_accuracy: 0.7483\n",
      "Epoch 8/10\n",
      "50/50 [==============================] - 8s 167ms/step - loss: 0.4162 - accuracy: 0.8125 - val_loss: 0.6536 - val_accuracy: 0.6531\n",
      "Epoch 9/10\n",
      "50/50 [==============================] - 9s 173ms/step - loss: 0.3432 - accuracy: 0.8475 - val_loss: 0.6824 - val_accuracy: 0.7143\n",
      "Epoch 10/10\n",
      "50/50 [==============================] - 9s 173ms/step - loss: 0.2983 - accuracy: 0.8700 - val_loss: 0.7757 - val_accuracy: 0.6871\n"
     ]
    },
    {
     "data": {
      "text/plain": [
       "<keras.callbacks.History at 0x20d9f525e50>"
      ]
     },
     "execution_count": 8,
     "metadata": {},
     "output_type": "execute_result"
    }
   ],
   "source": [
    "model.compile(loss='binary_crossentropy', optimizer=Adam(), metrics=['accuracy'])\n",
    "\n",
    "model.fit(\n",
    "    train_generator,\n",
    "    steps_per_epoch=len(train_generator),\n",
    "    epochs=10,\n",
    "    validation_data=validation_generator,\n",
    "    validation_steps=len(validation_generator))"
   ]
  },
  {
   "cell_type": "code",
   "execution_count": 9,
   "metadata": {},
   "outputs": [
    {
     "name": "stdout",
     "output_type": "stream",
     "text": [
      "147/147 [==============================] - 2s 9ms/step\n",
      "[[45 43]\n",
      " [31 28]]\n"
     ]
    }
   ],
   "source": [
    "##Confusion Matrix Generator and ROC Curve\n",
    "y_pred_real = model.predict(validation_generator)\n",
    "y_pred = [int(p >= 0.5) for p in y_pred_real] ##With sigmoid 1 neuron\n",
    "##y_pred = np.argmax(Y_pred, axis=1) ##With softmax and 2 neurons \n",
    "y_true = validation_generator.classes\n",
    "from sklearn.metrics import confusion_matrix\n",
    "cm = confusion_matrix(validation_generator.classes, y_pred)\n",
    "print(cm)"
   ]
  }
 ],
 "metadata": {
  "kernelspec": {
   "display_name": "Python 3",
   "language": "python",
   "name": "python3"
  },
  "language_info": {
   "codemirror_mode": {
    "name": "ipython",
    "version": 3
   },
   "file_extension": ".py",
   "mimetype": "text/x-python",
   "name": "python",
   "nbconvert_exporter": "python",
   "pygments_lexer": "ipython3",
   "version": "3.11.2"
  },
  "orig_nbformat": 4
 },
 "nbformat": 4,
 "nbformat_minor": 2
}
