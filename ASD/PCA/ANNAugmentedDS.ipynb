{
 "cells": [
  {
   "cell_type": "code",
   "execution_count": 1,
   "metadata": {},
   "outputs": [],
   "source": [
    "#Load and preprocess\n",
    "import os\n",
    "import cv2\n",
    "import numpy as np\n",
    "from sklearn.decomposition import PCA\n",
    "import tensorflow as tf\n",
    "from tensorflow.keras.models import Sequential\n",
    "from tensorflow.keras.layers import Dense\n",
    "from tensorflow.keras.optimizers import Adam\n",
    "from tensorflow.keras.layers import Dropout\n",
    "\n",
    "\n",
    "def load_images_from_folder(folder):\n",
    "    images = []\n",
    "    for filename in os.listdir(folder):\n",
    "        if filename.endswith(\".png\"):\n",
    "            img = cv2.imread(os.path.join(folder, filename), cv2.IMREAD_GRAYSCALE)\n",
    "            if img is not None:\n",
    "                images.append(img)\n",
    "    return images"
   ]
  },
  {
   "cell_type": "code",
   "execution_count": 2,
   "metadata": {},
   "outputs": [],
   "source": [
    "#Load the images and preprocess them (resize, flatten, and normalize)\n",
    "folder_path_class1 = r'C:\\Users\\786me\\Desktop\\FinalYearProject\\ASDScanPath\\ASD\\Augmented5x\\Control'\n",
    "folder_path_class2 = r'C:\\Users\\786me\\Desktop\\FinalYearProject\\ASDScanPath\\ASD\\Augmented5x\\Patient'\n",
    "\n",
    "# Load images from each class folder\n",
    "images_class1 = load_images_from_folder(folder_path_class1)\n",
    "images_class2 = load_images_from_folder(folder_path_class2)\n",
    "\n",
    "# Assign labels to images (0 for class1, 1 for class2)\n",
    "labels_class1 = [0] * len(images_class1)\n",
    "labels_class2 = [1] * len(images_class2)\n",
    "\n",
    "# Resize the images to a consistent size (e.g., 64x64)\n",
    "resize_dim = (224, 224)\n",
    "resized_images_class1 = [cv2.resize(img, resize_dim) for img in images_class1]\n",
    "resized_images_class2 = [cv2.resize(img, resize_dim) for img in images_class2]\n",
    "\n",
    "# Flatten and normalize the images into 1D arrays\n",
    "flattened_images_class1 = [img.flatten() / 255.0 for img in resized_images_class1]\n",
    "flattened_images_class2 = [img.flatten() / 255.0 for img in resized_images_class2]\n",
    "\n",
    "# Combine the image data and labels\n",
    "X = np.vstack((flattened_images_class1, flattened_images_class2))\n",
    "y = np.hstack((labels_class1, labels_class2))"
   ]
  },
  {
   "cell_type": "code",
   "execution_count": 3,
   "metadata": {},
   "outputs": [
    {
     "name": "stdout",
     "output_type": "stream",
     "text": [
      "Optimal number of components for 99.0% explained variance: 2158\n"
     ]
    }
   ],
   "source": [
    "def optimal_n_components(data, explained_variance_threshold):\n",
    "    pca = PCA()\n",
    "    pca.fit(data)\n",
    "    cumulative_explained_variance = np.cumsum(pca.explained_variance_ratio_)\n",
    "    \n",
    "    optimal_n = np.where(cumulative_explained_variance >= explained_variance_threshold)[0][0] + 1\n",
    "    \n",
    "    return optimal_n\n",
    "\n",
    "explained_variance_threshold = 0.99\n",
    "n_components = optimal_n_components(X, explained_variance_threshold)\n",
    "\n",
    "print(f'Optimal number of components for {explained_variance_threshold*100}% explained variance: {n_components}')"
   ]
  },
  {
   "cell_type": "code",
   "execution_count": 4,
   "metadata": {},
   "outputs": [],
   "source": [
    "pca = PCA(n_components=n_components)\n",
    "X_pca = pca.fit_transform(X)"
   ]
  },
  {
   "cell_type": "code",
   "execution_count": 5,
   "metadata": {},
   "outputs": [
    {
     "name": "stdout",
     "output_type": "stream",
     "text": [
      "Model: \"sequential\"\n",
      "_________________________________________________________________\n",
      " Layer (type)                Output Shape              Param #   \n",
      "=================================================================\n",
      " dense (Dense)               (None, 32)                69088     \n",
      "                                                                 \n",
      " dropout (Dropout)           (None, 32)                0         \n",
      "                                                                 \n",
      " dense_1 (Dense)             (None, 16)                528       \n",
      "                                                                 \n",
      " dropout_1 (Dropout)         (None, 16)                0         \n",
      "                                                                 \n",
      " dense_2 (Dense)             (None, 1)                 17        \n",
      "                                                                 \n",
      "=================================================================\n",
      "Total params: 69,633\n",
      "Trainable params: 69,633\n",
      "Non-trainable params: 0\n",
      "_________________________________________________________________\n"
     ]
    }
   ],
   "source": [
    "# Create a simple ANN model\n",
    "def create_ann_model(input_dim):\n",
    "    model = Sequential()\n",
    "    model.add(Dense(32, input_dim=input_dim, activation='relu'))\n",
    "    model.add(Dropout(0.5))\n",
    "    model.add(Dense(16, activation='relu'))\n",
    "    model.add(Dropout(0.5))\n",
    "    model.add(Dense(1, activation='sigmoid'))\n",
    "    return model\n",
    "\n",
    "# Define the input dimension based on the number of PCA components\n",
    "input_dim = X_pca.shape[1]\n",
    "\n",
    "# Create the ANN model\n",
    "ann_model = create_ann_model(input_dim)\n",
    "\n",
    "# Compile the model\n",
    "ann_model.compile(loss='binary_crossentropy', optimizer=Adam(learning_rate=0.001), metrics=['accuracy'])\n",
    "ann_model.summary()\n"
   ]
  },
  {
   "cell_type": "code",
   "execution_count": 6,
   "metadata": {},
   "outputs": [],
   "source": [
    "#split the dataset into training and testing sets\n",
    "from sklearn.model_selection import train_test_split\n",
    "X_train, X_test, y_train, y_test = train_test_split(X_pca, y, test_size=0.2, random_state=42)"
   ]
  },
  {
   "cell_type": "code",
   "execution_count": 7,
   "metadata": {},
   "outputs": [
    {
     "name": "stdout",
     "output_type": "stream",
     "text": [
      "Epoch 1/20\n",
      "51/51 [==============================] - 1s 7ms/step - loss: 0.6890 - accuracy: 0.5368 - val_loss: 0.6790 - val_accuracy: 0.6593\n",
      "Epoch 2/20\n",
      "51/51 [==============================] - 0s 3ms/step - loss: 0.6569 - accuracy: 0.6777 - val_loss: 0.6594 - val_accuracy: 0.6471\n",
      "Epoch 3/20\n",
      "51/51 [==============================] - 0s 3ms/step - loss: 0.6064 - accuracy: 0.7267 - val_loss: 0.6251 - val_accuracy: 0.6569\n",
      "Epoch 4/20\n",
      "51/51 [==============================] - 0s 3ms/step - loss: 0.5263 - accuracy: 0.7800 - val_loss: 0.5912 - val_accuracy: 0.6618\n",
      "Epoch 5/20\n",
      "51/51 [==============================] - 0s 4ms/step - loss: 0.4241 - accuracy: 0.8425 - val_loss: 0.5776 - val_accuracy: 0.6814\n",
      "Epoch 6/20\n",
      "51/51 [==============================] - 0s 4ms/step - loss: 0.3422 - accuracy: 0.8891 - val_loss: 0.5820 - val_accuracy: 0.6789\n",
      "Epoch 7/20\n",
      "51/51 [==============================] - 0s 4ms/step - loss: 0.2789 - accuracy: 0.9105 - val_loss: 0.6050 - val_accuracy: 0.6912\n",
      "Epoch 8/20\n",
      "51/51 [==============================] - 0s 3ms/step - loss: 0.2073 - accuracy: 0.9314 - val_loss: 0.6359 - val_accuracy: 0.6961\n",
      "Epoch 9/20\n",
      "51/51 [==============================] - 0s 3ms/step - loss: 0.1619 - accuracy: 0.9547 - val_loss: 0.6746 - val_accuracy: 0.6961\n",
      "Epoch 10/20\n",
      "51/51 [==============================] - 0s 3ms/step - loss: 0.1357 - accuracy: 0.9632 - val_loss: 0.7188 - val_accuracy: 0.6814\n",
      "Epoch 11/20\n",
      "51/51 [==============================] - 0s 3ms/step - loss: 0.1104 - accuracy: 0.9688 - val_loss: 0.7726 - val_accuracy: 0.6740\n",
      "Epoch 12/20\n",
      "51/51 [==============================] - 0s 5ms/step - loss: 0.0857 - accuracy: 0.9761 - val_loss: 0.8224 - val_accuracy: 0.6789\n",
      "Epoch 13/20\n",
      "51/51 [==============================] - 0s 3ms/step - loss: 0.0839 - accuracy: 0.9816 - val_loss: 0.8620 - val_accuracy: 0.6789\n",
      "Epoch 14/20\n",
      "51/51 [==============================] - 0s 4ms/step - loss: 0.0675 - accuracy: 0.9792 - val_loss: 0.9369 - val_accuracy: 0.6642\n",
      "Epoch 15/20\n",
      "51/51 [==============================] - 0s 3ms/step - loss: 0.0614 - accuracy: 0.9798 - val_loss: 0.9652 - val_accuracy: 0.6667\n",
      "Epoch 16/20\n",
      "51/51 [==============================] - 0s 4ms/step - loss: 0.0506 - accuracy: 0.9865 - val_loss: 1.0187 - val_accuracy: 0.6691\n",
      "Epoch 17/20\n",
      "51/51 [==============================] - 0s 5ms/step - loss: 0.0422 - accuracy: 0.9914 - val_loss: 1.0708 - val_accuracy: 0.6765\n",
      "Epoch 18/20\n",
      "51/51 [==============================] - 0s 4ms/step - loss: 0.0523 - accuracy: 0.9841 - val_loss: 1.1046 - val_accuracy: 0.6765\n",
      "Epoch 19/20\n",
      "51/51 [==============================] - 0s 3ms/step - loss: 0.0343 - accuracy: 0.9926 - val_loss: 1.1560 - val_accuracy: 0.6716\n",
      "Epoch 20/20\n",
      "51/51 [==============================] - 0s 3ms/step - loss: 0.0383 - accuracy: 0.9914 - val_loss: 1.2073 - val_accuracy: 0.6642\n"
     ]
    }
   ],
   "source": [
    "# Train the model\n",
    "history = ann_model.fit(X_train, y_train, epochs=10, batch_size=32, validation_split=0.2)\n"
   ]
  },
  {
   "cell_type": "code",
   "execution_count": 8,
   "metadata": {},
   "outputs": [
    {
     "name": "stdout",
     "output_type": "stream",
     "text": [
      "16/16 [==============================] - 0s 1ms/step\n"
     ]
    },
    {
     "data": {
      "image/png": "[encoded data removed]",
      "text/plain": [
       "<Figure size 600x600 with 1 Axes>"
      ]
     },
     "metadata": {},
     "output_type": "display_data"
    }
   ],
   "source": [
    "from sklearn.metrics import confusion_matrix\n",
    "import seaborn as sns\n",
    "import matplotlib.pyplot as plt\n",
    "# Make predictions on the test data\n",
    "y_pred_proba = ann_model.predict(X_test)\n",
    "y_pred = (y_pred_proba > 0.5).astype(int).flatten()\n",
    "\n",
    "# Calculate the confusion matrix\n",
    "cm = confusion_matrix(y_test, y_pred)\n",
    "\n",
    "# Visualize the confusion matrix as a heatmap\n",
    "plt.figure(figsize=(6, 6))\n",
    "sns.heatmap(cm, annot=True, fmt='d', cmap='Blues', cbar=False, square=True)\n",
    "plt.xlabel('Predicted Label')\n",
    "plt.ylabel('True Label')\n",
    "plt.title('Confusion Matrix')\n",
    "plt.show()\n"
   ]
  },
  {
   "cell_type": "code",
   "execution_count": 10,
   "metadata": {},
   "outputs": [
    {
     "name": "stdout",
     "output_type": "stream",
     "text": [
      "Sensitivity (Recall): 0.63\n",
      "Precision: 0.70\n",
      "Positive Predictive Value (PPV): 0.70\n",
      "Negative Predictive Value (NPV): 0.74\n"
     ]
    }
   ],
   "source": [
    "# Extract the values from the confusion matrix\n",
    "TN, FP, FN, TP = cm.ravel()\n",
    "\n",
    "# Calculate Sensitivity (Recall)\n",
    "sensitivity = TP / (TP + FN)\n",
    "\n",
    "# Calculate Precision\n",
    "precision = TP / (TP + FP)\n",
    "\n",
    "# Calculate PPV (same as Precision)\n",
    "ppv = precision\n",
    "\n",
    "# Calculate NPV\n",
    "npv = TN / (TN + FN)\n",
    "\n",
    "print(f\"Sensitivity (Recall): {sensitivity:.2f}\")\n",
    "print(f\"Precision: {precision:.2f}\")\n",
    "print(f\"Positive Predictive Value (PPV): {ppv:.2f}\")\n",
    "print(f\"Negative Predictive Value (NPV): {npv:.2f}\")\n"
   ]
  },
  {
   "cell_type": "code",
   "execution_count": 9,
   "metadata": {},
   "outputs": [
    {
     "data": {
      "image/png": "[encoded data removed]",
      "text/plain": [
       "<Figure size 600x600 with 1 Axes>"
      ]
     },
     "metadata": {},
     "output_type": "display_data"
    }
   ],
   "source": [
    "from sklearn.metrics import roc_curve, auc\n",
    "\n",
    "# Calculate the false positive rate (FPR), true positive rate (TPR), and AUC\n",
    "fpr, tpr, thresholds = roc_curve(y_test, y_pred_proba)\n",
    "roc_auc = auc(fpr, tpr)\n",
    "\n",
    "# Plot the ROC curve\n",
    "plt.figure(figsize=(6, 6))\n",
    "plt.plot(fpr, tpr, color='darkorange', lw=2, label=f'ROC curve (AUC = {roc_auc:.2f})')\n",
    "plt.plot([0, 1], [0, 1], color='navy', lw=2, linestyle='--')\n",
    "plt.xlim([0.0, 1.0])\n",
    "plt.ylim([0.0, 1.05])\n",
    "plt.xlabel('False Positive Rate')\n",
    "plt.ylabel('True Positive Rate')\n",
    "plt.title('ROC Curve')\n",
    "plt.legend(loc=\"lower right\")\n",
    "plt.show()\n"
   ]
  }
 ],
 "metadata": {
  "kernelspec": {
   "display_name": "Python 3",
   "language": "python",
   "name": "python3"
  },
  "language_info": {
   "codemirror_mode": {
    "name": "ipython",
    "version": 3
   },
   "file_extension": ".py",
   "mimetype": "text/x-python",
   "name": "python",
   "nbconvert_exporter": "python",
   "pygments_lexer": "ipython3",
   "version": "3.11.2"
  },
  "orig_nbformat": 4
 },
 "nbformat": 4,
 "nbformat_minor": 2
}
