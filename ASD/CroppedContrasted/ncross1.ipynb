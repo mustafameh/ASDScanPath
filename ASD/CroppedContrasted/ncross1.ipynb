{
 "cells": [
  {
   "cell_type": "code",
   "execution_count": 1,
   "metadata": {},
   "outputs": [],
   "source": [
    "import os\n",
    "import shutil\n",
    "import random\n",
    "from pathlib import Path\n",
    "import numpy as np\n",
    "\n",
    "random.seed(42)\n",
    "\n",
    "# Config\n",
    "num_folds = 5\n",
    "data_path = r\"C:\\Users\\786me\\Desktop\\FinalYearProject\\ASDScanPath\\ASD\\CroppedContrasted\\Dataset\"  # Update this path to your data folder\n",
    "output_path = r\"C:\\Users\\786me\\Desktop\\FinalYearProject\\ASDScanPath\\ASD\\CroppedContrasted\\folds\"  # Update this path to where you want to save the folds"
   ]
  },
  {
   "cell_type": "code",
   "execution_count": 2,
   "metadata": {},
   "outputs": [],
   "source": [
    "# Create folders for the folds\n",
    "for i in range(num_folds):\n",
    "    Path(os.path.join(output_path, f\"fold_{i + 1}\", \"train\", \"Control\")).mkdir(parents=True, exist_ok=True)\n",
    "    Path(os.path.join(output_path, f\"fold_{i + 1}\", \"train\", \"Patient\")).mkdir(parents=True, exist_ok=True)\n",
    "    Path(os.path.join(output_path, f\"fold_{i + 1}\", \"val\", \"Control\")).mkdir(parents=True, exist_ok=True)\n",
    "    Path(os.path.join(output_path, f\"fold_{i + 1}\", \"val\", \"Patient\")).mkdir(parents=True,exist_ok=True)\n",
    "\n",
    "# Load and shuffle the data\n",
    "class_1_files = os.listdir(os.path.join(data_path, \"Control\"))\n",
    "class_2_files = os.listdir(os.path.join(data_path, \"Patient\"))\n",
    "random.shuffle(class_1_files)\n",
    "random.shuffle(class_2_files)"
   ]
  },
  {
   "cell_type": "code",
   "execution_count": 3,
   "metadata": {},
   "outputs": [],
   "source": [
    "# Split the data into folds\n",
    "class_1_splits = np.array_split(class_1_files, num_folds)\n",
    "class_2_splits = np.array_split(class_2_files, num_folds)"
   ]
  },
  {
   "cell_type": "code",
   "execution_count": 4,
   "metadata": {},
   "outputs": [],
   "source": [
    "# Copy files to the appropriate fold and class directories\n",
    "for fold_idx in range(num_folds):\n",
    "    for idx, file in enumerate(class_1_splits[fold_idx]):\n",
    "        src = os.path.join(data_path, \"Control\", file)\n",
    "        if idx % num_folds == fold_idx:\n",
    "            dst = os.path.join(output_path, f\"fold_{fold_idx + 1}\", \"val\", \"Control\", file)\n",
    "        else:\n",
    "            dst = os.path.join(output_path, f\"fold_{fold_idx + 1}\", \"train\", \"Control\", file)\n",
    "        shutil.copyfile(src, dst)\n",
    "\n",
    "    for idx, file in enumerate(class_2_splits[fold_idx]):\n",
    "        src = os.path.join(data_path, \"Patient\", file)\n",
    "        if idx % num_folds == fold_idx:\n",
    "            dst = os.path.join(output_path, f\"fold_{fold_idx + 1}\", \"val\", \"Patient\", file)\n",
    "        else:\n",
    "            dst = os.path.join(output_path, f\"fold_{fold_idx + 1}\", \"train\", \"Patient\", file)\n",
    "        shutil.copyfile(src, dst)\n"
   ]
  },
  {
   "cell_type": "code",
   "execution_count": null,
   "metadata": {},
   "outputs": [],
   "source": []
  }
 ],
 "metadata": {
  "kernelspec": {
   "display_name": "Python 3",
   "language": "python",
   "name": "python3"
  },
  "language_info": {
   "codemirror_mode": {
    "name": "ipython",
    "version": 3
   },
   "file_extension": ".py",
   "mimetype": "text/x-python",
   "name": "python",
   "nbconvert_exporter": "python",
   "pygments_lexer": "ipython3",
   "version": "3.11.2"
  },
  "orig_nbformat": 4
 },
 "nbformat": 4,
 "nbformat_minor": 2
}
